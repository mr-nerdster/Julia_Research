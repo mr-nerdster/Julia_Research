{
 "cells": [
  {
   "cell_type": "code",
   "execution_count": 1,
   "metadata": {},
   "outputs": [],
   "source": [
    "#importing header file \n",
    "import csv\n",
    "import pandas as pd\n",
    "import time \n",
    "import gc\n",
    "from time import process_time"
   ]
  },
  {
   "cell_type": "code",
   "execution_count": 2,
   "metadata": {},
   "outputs": [],
   "source": [
    "def LogReg():\n",
    "        #getting the dataset\n",
    "        df = pd.read_csv(\"datahai.csv\")\n",
    "        df.describe()\n",
    "        df.columns\n",
    "        df[\"Exited\"].value_counts()\n",
    "\n",
    "        #one hot encoding \n",
    "        df = pd.get_dummies(df, columns= ['Geography' , 'Gender'])\n",
    "        df.columns\n",
    "        df = df.drop(['RowNumber','CustomerId','Surname','Gender_Male'], axis = 1)\n",
    "        df.columns\n",
    "        # Splitting into Train and Test \n",
    "        Y = df['Exited']\n",
    "        X = df.drop(['Exited'],axis = 1)\n",
    "        from sklearn.model_selection import train_test_split\n",
    "        xtrain, xtest, ytrain, ytest = train_test_split(\n",
    "                X, Y, test_size = 0.25, random_state = 0)\n",
    "\n",
    "        #standardisation\n",
    "        from sklearn.preprocessing import StandardScaler\n",
    "        sc_x = StandardScaler()\n",
    "        xtrain = sc_x.fit_transform(xtrain)\n",
    "        xtest = sc_x.transform(xtest)\n",
    "        xtrain\n",
    "        xtest\n",
    "        #Modelling\n",
    "        from sklearn.linear_model import LogisticRegression \n",
    "        model = LogisticRegression(random_state = 0)\n",
    "        model.fit(xtrain,ytrain)\n",
    "        y_pred = model.predict(xtest)\n",
    "\n",
    "        #Accuracy_score\n",
    "        from sklearn.metrics import accuracy_score\n",
    "        print(\"Accuracy :\",accuracy_score(ytest,y_pred))"
   ]
  },
  {
   "cell_type": "code",
   "execution_count": 5,
   "metadata": {},
   "outputs": [
    {
     "name": "stdout",
     "output_type": "stream",
     "text": [
      "Accuracy : 0.8068\n",
      "0.04390600000000022\n"
     ]
    }
   ],
   "source": [
    "gc.collect()\n",
    "start = process_time()\n",
    "LogReg()\n",
    "end = process_time()\n",
    "print(end-start)\n"
   ]
  }
 ],
 "metadata": {
  "interpreter": {
   "hash": "31f2aee4e71d21fbe5cf8b01ff0e069b9275f58929596ceb00d14d90e3e16cd6"
  },
  "kernelspec": {
   "display_name": "Python 3.8.9 64-bit",
   "language": "python",
   "name": "python3"
  },
  "language_info": {
   "codemirror_mode": {
    "name": "ipython",
    "version": 3
   },
   "file_extension": ".py",
   "mimetype": "text/x-python",
   "name": "python",
   "nbconvert_exporter": "python",
   "pygments_lexer": "ipython3",
   "version": "3.9.10"
  },
  "orig_nbformat": 4
 },
 "nbformat": 4,
 "nbformat_minor": 2
}
