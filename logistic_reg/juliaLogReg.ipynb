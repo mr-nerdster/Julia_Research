{
 "cells": [
  {
   "cell_type": "code",
   "execution_count": 5,
   "metadata": {},
   "outputs": [],
   "source": [
    "    #preprocessing\n",
    "    using Pkg\n",
    "    using DataFrames\n",
    "    using CSV\n",
    "    using Plots\n",
    "    using GLM\n",
    "    using StatsBase\n",
    "    using Lathe\n",
    "    using MLBase\n",
    "    using ClassImbalance\n",
    "    using CPUTime\n",
    "    using Lathe.preprocess: TrainTestSplit\n",
    "    using BenchmarkTools"
   ]
  },
  {
   "cell_type": "code",
   "execution_count": 6,
   "metadata": {},
   "outputs": [
    {
     "data": {
      "text/plain": [
       "log_rec (generic function with 1 method)"
      ]
     },
     "metadata": {},
     "output_type": "display_data"
    }
   ],
   "source": [
    "function log_rec()\n",
    "\n",
    "    #number of columns\n",
    "    ENV[\"COLUMNS\"] = 1000\n",
    "\n",
    "    #importing dataFrame \n",
    "    df = DataFrame(CSV.File(\"datahai.csv\"))\n",
    "    describe(df)\n",
    "    names(df)\n",
    "\n",
    "    #now finding number of  ClassImbalance\n",
    "    countmap(df.Exited)\n",
    "    names(df)\n",
    "    #One hot encoding \n",
    "    Lathe.preprocess.OneHotEncode(df,:Geography)\n",
    "    Lathe.preprocess.OneHotEncode(df,:Gender)\n",
    "    select!(df, Not([:RowNumber, :CustomerId,:Surname,:Geography,:Gender,:Male]))\n",
    "    first(df,5)\n",
    "    names(df)\n",
    "    #Train test split\n",
    "    \n",
    "    train , test = TrainTestSplit(df,0.8)\n",
    "    train\n",
    "    test\n",
    "\n",
    "    #Modelling\n",
    "    fm = @formula(Exited ~ CreditScore + Age + Tenure + Balance + NumOfProducts + HasCrCard + IsActiveMember + EstimatedSalary + Female + France + Spain)\n",
    "    logit = glm(fm , train , Binomial() ,ProbitLink())\n",
    "\n",
    "    #prediction \n",
    "    prediction = predict(logit,test)\n",
    "\n",
    "    #prediction class \n",
    "    prediction_class = [if x<0.5 0 else 1 end for x in prediction]\n",
    "\n",
    "    prediction_df = DataFrame(y_actual = test.Exited, y_predicted = prediction_class, prob_predicted = prediction);\n",
    "    prediction_df.correctly_classified = prediction_df.y_actual .== prediction_df.y_predicted\n",
    "\n",
    "\n",
    "    accuracy = mean(prediction_df.correctly_classified)\n",
    "\n",
    "end\n"
   ]
  },
  {
   "cell_type": "code",
   "execution_count": 22,
   "metadata": {},
   "outputs": [
    {
     "name": "stdout",
     "output_type": "stream",
     "text": [
      "  0.027746 seconds (3.32 k allocations: 10.947 MiB)\n"
     ]
    },
    {
     "data": {
      "text/plain": [
       "0.8153452685421995"
      ]
     },
     "metadata": {},
     "output_type": "display_data"
    }
   ],
   "source": [
    "@time log_rec()"
   ]
  },
  {
   "cell_type": "code",
   "execution_count": 17,
   "metadata": {},
   "outputs": [
    {
     "name": "stdout",
     "output_type": "stream",
     "text": [
      "elapsed CPU time: 0.025021 seconds\n"
     ]
    },
    {
     "data": {
      "text/plain": [
       "0.8179979777553084"
      ]
     },
     "metadata": {},
     "output_type": "display_data"
    }
   ],
   "source": [
    "GC.gc()\n",
    "@CPUtime begin\n",
    "    log_rec()\n",
    "end"
   ]
  },
  {
   "cell_type": "code",
   "execution_count": null,
   "metadata": {},
   "outputs": [],
   "source": []
  }
 ],
 "metadata": {
  "kernelspec": {
   "display_name": "Julia 1.7.2",
   "language": "julia",
   "name": "julia-1.7"
  },
  "language_info": {
   "file_extension": ".jl",
   "mimetype": "application/julia",
   "name": "julia",
   "version": "1.7.2"
  },
  "orig_nbformat": 4
 },
 "nbformat": 4,
 "nbformat_minor": 2
}
