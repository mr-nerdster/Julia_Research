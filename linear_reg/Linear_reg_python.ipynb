{
 "cells": [
  {
   "cell_type": "code",
   "execution_count": 2,
   "id": "93ea4119",
   "metadata": {},
   "outputs": [],
   "source": [
    "import numpy as np\n",
    "import pandas as pd"
   ]
  },
  {
   "cell_type": "code",
   "execution_count": 15,
   "id": "3792c6c4",
   "metadata": {},
   "outputs": [],
   "source": [
    "import time\n",
    "import gc\n",
    "from time import process_time"
   ]
  },
  {
   "cell_type": "code",
   "execution_count": 13,
   "id": "09fd2688",
   "metadata": {},
   "outputs": [],
   "source": [
    "def linear_reg():\n",
    "    data = pd.read_csv(\"headbrain.csv\")\n",
    "    \n",
    "    # collecting x & y\n",
    "    X = data['Head Size(cm^3)'].values\n",
    "    Y = data['Brain Weight(grams)'].values\n",
    "\n",
    "    # calculate mean of x & y using an inbuilt numpy method mean()\n",
    "    mean_x = np.mean(X)\n",
    "    mean_y = np.mean(Y)\n",
    "    \n",
    "    # total no.of input values\n",
    "    val_count = len(X)\n",
    "\n",
    "    # using the formula to calculate m & c\n",
    "    numer = 0\n",
    "    denom = 0\n",
    "    for i in range(val_count):\n",
    "      numer += (X[i] - mean_x) * (Y[i] - mean_y)\n",
    "      denom += (X[i] - mean_x) ** 2\n",
    "    m = numer / denom\n",
    "    c = mean_y - (m * mean_x)\n",
    "\n",
    "#     print (f'm = {m} \\nc = {c}')\n",
    "\n",
    "    # calculating R-squared value for measuring goodness of our model. \n",
    "    ss_t = 0 #total sum of squares\n",
    "    ss_r = 0 #total sum of square of residuals\n",
    "\n",
    "    for i in range(int(val_count)):\n",
    "      y_pred = c + m * X[i]\n",
    "      ss_t += (Y[i] - mean_y) ** 2\n",
    "      ss_r += (Y[i] - y_pred) ** 2\n",
    "    r2 = 1 - (ss_r/ss_t)\n",
    "\n",
    "    return r2"
   ]
  },
  {
   "cell_type": "code",
   "execution_count": 14,
   "id": "ea5501ac",
   "metadata": {},
   "outputs": [
    {
     "data": {
      "text/plain": [
       "0.6393117199570003"
      ]
     },
     "execution_count": 14,
     "metadata": {},
     "output_type": "execute_result"
    }
   ],
   "source": [
    "linear_reg()"
   ]
  },
  {
   "cell_type": "code",
   "execution_count": 16,
   "id": "2290b2c1",
   "metadata": {},
   "outputs": [
    {
     "name": "stdout",
     "output_type": "stream",
     "text": [
      "0.007180344000000005\n"
     ]
    }
   ],
   "source": [
    "gc.collect()\n",
    "start = process_time()\n",
    "linear_reg()\n",
    "end = process_time()\n",
    "\n",
    "print(end-start)"
   ]
  },
  {
   "cell_type": "code",
   "execution_count": null,
   "id": "963f1926",
   "metadata": {},
   "outputs": [],
   "source": []
  }
 ],
 "metadata": {
  "kernelspec": {
   "display_name": "Python 3 (ipykernel)",
   "language": "python",
   "name": "python3"
  },
  "language_info": {
   "codemirror_mode": {
    "name": "ipython",
    "version": 3
   },
   "file_extension": ".py",
   "mimetype": "text/x-python",
   "name": "python",
   "nbconvert_exporter": "python",
   "pygments_lexer": "ipython3",
   "version": "3.8.10"
  }
 },
 "nbformat": 4,
 "nbformat_minor": 5
}
