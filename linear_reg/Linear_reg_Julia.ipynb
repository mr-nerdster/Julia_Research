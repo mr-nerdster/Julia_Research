{
 "cells": [
  {
   "cell_type": "code",
   "execution_count": 1,
   "id": "6a580206",
   "metadata": {},
   "outputs": [],
   "source": [
    "using DataFrames\n",
    "using CSV"
   ]
  },
  {
   "cell_type": "code",
   "execution_count": 6,
   "id": "dce63a47",
   "metadata": {},
   "outputs": [],
   "source": [
    "using Statistics"
   ]
  },
  {
   "cell_type": "code",
   "execution_count": 24,
   "id": "dd075429",
   "metadata": {},
   "outputs": [],
   "source": [
    "using CPUTime\n",
    "using BenchmarkTools"
   ]
  },
  {
   "cell_type": "code",
   "execution_count": 2,
   "id": "21ababf6",
   "metadata": {},
   "outputs": [
    {
     "data": {
      "text/html": [
       "<table class=\"data-frame\"><thead><tr><th></th><th>Gender</th><th>Age Range</th><th>Head Size(cm^3)</th><th>Brain Weight(grams)</th></tr><tr><th></th><th>Int64</th><th>Int64</th><th>Int64</th><th>Int64</th></tr></thead><tbody><p>237 rows × 4 columns</p><tr><th>1</th><td>1</td><td>1</td><td>4512</td><td>1530</td></tr><tr><th>2</th><td>1</td><td>1</td><td>3738</td><td>1297</td></tr><tr><th>3</th><td>1</td><td>1</td><td>4261</td><td>1335</td></tr><tr><th>4</th><td>1</td><td>1</td><td>3777</td><td>1282</td></tr><tr><th>5</th><td>1</td><td>1</td><td>4177</td><td>1590</td></tr><tr><th>6</th><td>1</td><td>1</td><td>3585</td><td>1300</td></tr><tr><th>7</th><td>1</td><td>1</td><td>3785</td><td>1400</td></tr><tr><th>8</th><td>1</td><td>1</td><td>3559</td><td>1255</td></tr><tr><th>9</th><td>1</td><td>1</td><td>3613</td><td>1355</td></tr><tr><th>10</th><td>1</td><td>1</td><td>3982</td><td>1375</td></tr><tr><th>11</th><td>1</td><td>1</td><td>3443</td><td>1340</td></tr><tr><th>12</th><td>1</td><td>1</td><td>3993</td><td>1380</td></tr><tr><th>13</th><td>1</td><td>1</td><td>3640</td><td>1355</td></tr><tr><th>14</th><td>1</td><td>1</td><td>4208</td><td>1522</td></tr><tr><th>15</th><td>1</td><td>1</td><td>3832</td><td>1208</td></tr><tr><th>16</th><td>1</td><td>1</td><td>3876</td><td>1405</td></tr><tr><th>17</th><td>1</td><td>1</td><td>3497</td><td>1358</td></tr><tr><th>18</th><td>1</td><td>1</td><td>3466</td><td>1292</td></tr><tr><th>19</th><td>1</td><td>1</td><td>3095</td><td>1340</td></tr><tr><th>20</th><td>1</td><td>1</td><td>4424</td><td>1400</td></tr><tr><th>21</th><td>1</td><td>1</td><td>3878</td><td>1357</td></tr><tr><th>22</th><td>1</td><td>1</td><td>4046</td><td>1287</td></tr><tr><th>23</th><td>1</td><td>1</td><td>3804</td><td>1275</td></tr><tr><th>24</th><td>1</td><td>1</td><td>3710</td><td>1270</td></tr><tr><th>25</th><td>1</td><td>1</td><td>4747</td><td>1635</td></tr><tr><th>26</th><td>1</td><td>1</td><td>4423</td><td>1505</td></tr><tr><th>27</th><td>1</td><td>1</td><td>4036</td><td>1490</td></tr><tr><th>28</th><td>1</td><td>1</td><td>4022</td><td>1485</td></tr><tr><th>29</th><td>1</td><td>1</td><td>3454</td><td>1310</td></tr><tr><th>30</th><td>1</td><td>1</td><td>4175</td><td>1420</td></tr><tr><th>&vellip;</th><td>&vellip;</td><td>&vellip;</td><td>&vellip;</td><td>&vellip;</td></tr></tbody></table>"
      ],
      "text/latex": [
       "\\begin{tabular}{r|cccc}\n",
       "\t& Gender & Age Range & Head Size(cm\\^3) & Brain Weight(grams)\\\\\n",
       "\t\\hline\n",
       "\t& Int64 & Int64 & Int64 & Int64\\\\\n",
       "\t\\hline\n",
       "\t1 & 1 & 1 & 4512 & 1530 \\\\\n",
       "\t2 & 1 & 1 & 3738 & 1297 \\\\\n",
       "\t3 & 1 & 1 & 4261 & 1335 \\\\\n",
       "\t4 & 1 & 1 & 3777 & 1282 \\\\\n",
       "\t5 & 1 & 1 & 4177 & 1590 \\\\\n",
       "\t6 & 1 & 1 & 3585 & 1300 \\\\\n",
       "\t7 & 1 & 1 & 3785 & 1400 \\\\\n",
       "\t8 & 1 & 1 & 3559 & 1255 \\\\\n",
       "\t9 & 1 & 1 & 3613 & 1355 \\\\\n",
       "\t10 & 1 & 1 & 3982 & 1375 \\\\\n",
       "\t11 & 1 & 1 & 3443 & 1340 \\\\\n",
       "\t12 & 1 & 1 & 3993 & 1380 \\\\\n",
       "\t13 & 1 & 1 & 3640 & 1355 \\\\\n",
       "\t14 & 1 & 1 & 4208 & 1522 \\\\\n",
       "\t15 & 1 & 1 & 3832 & 1208 \\\\\n",
       "\t16 & 1 & 1 & 3876 & 1405 \\\\\n",
       "\t17 & 1 & 1 & 3497 & 1358 \\\\\n",
       "\t18 & 1 & 1 & 3466 & 1292 \\\\\n",
       "\t19 & 1 & 1 & 3095 & 1340 \\\\\n",
       "\t20 & 1 & 1 & 4424 & 1400 \\\\\n",
       "\t21 & 1 & 1 & 3878 & 1357 \\\\\n",
       "\t22 & 1 & 1 & 4046 & 1287 \\\\\n",
       "\t23 & 1 & 1 & 3804 & 1275 \\\\\n",
       "\t24 & 1 & 1 & 3710 & 1270 \\\\\n",
       "\t25 & 1 & 1 & 4747 & 1635 \\\\\n",
       "\t26 & 1 & 1 & 4423 & 1505 \\\\\n",
       "\t27 & 1 & 1 & 4036 & 1490 \\\\\n",
       "\t28 & 1 & 1 & 4022 & 1485 \\\\\n",
       "\t29 & 1 & 1 & 3454 & 1310 \\\\\n",
       "\t30 & 1 & 1 & 4175 & 1420 \\\\\n",
       "\t$\\dots$ & $\\dots$ & $\\dots$ & $\\dots$ & $\\dots$ \\\\\n",
       "\\end{tabular}\n"
      ],
      "text/plain": [
       "237×4 DataFrame\n",
       "│ Row │ Gender │ Age Range │ Head Size(cm^3) │ Brain Weight(grams) │\n",
       "│     │ \u001b[90mInt64\u001b[39m  │ \u001b[90mInt64\u001b[39m     │ \u001b[90mInt64\u001b[39m           │ \u001b[90mInt64\u001b[39m               │\n",
       "├─────┼────────┼───────────┼─────────────────┼─────────────────────┤\n",
       "│ 1   │ 1      │ 1         │ 4512            │ 1530                │\n",
       "│ 2   │ 1      │ 1         │ 3738            │ 1297                │\n",
       "│ 3   │ 1      │ 1         │ 4261            │ 1335                │\n",
       "│ 4   │ 1      │ 1         │ 3777            │ 1282                │\n",
       "│ 5   │ 1      │ 1         │ 4177            │ 1590                │\n",
       "│ 6   │ 1      │ 1         │ 3585            │ 1300                │\n",
       "│ 7   │ 1      │ 1         │ 3785            │ 1400                │\n",
       "│ 8   │ 1      │ 1         │ 3559            │ 1255                │\n",
       "│ 9   │ 1      │ 1         │ 3613            │ 1355                │\n",
       "│ 10  │ 1      │ 1         │ 3982            │ 1375                │\n",
       "⋮\n",
       "│ 227 │ 2      │ 2         │ 3284            │ 1246                │\n",
       "│ 228 │ 2      │ 2         │ 4204            │ 1380                │\n",
       "│ 229 │ 2      │ 2         │ 3735            │ 1350                │\n",
       "│ 230 │ 2      │ 2         │ 3218            │ 1060                │\n",
       "│ 231 │ 2      │ 2         │ 3685            │ 1350                │\n",
       "│ 232 │ 2      │ 2         │ 3704            │ 1220                │\n",
       "│ 233 │ 2      │ 2         │ 3214            │ 1110                │\n",
       "│ 234 │ 2      │ 2         │ 3394            │ 1215                │\n",
       "│ 235 │ 2      │ 2         │ 3233            │ 1104                │\n",
       "│ 236 │ 2      │ 2         │ 3352            │ 1170                │\n",
       "│ 237 │ 2      │ 2         │ 3391            │ 1120                │"
      ]
     },
     "execution_count": 2,
     "metadata": {},
     "output_type": "execute_result"
    }
   ],
   "source": [
    "df = CSV.read(\"headbrain.csv\",DataFrame)"
   ]
  },
  {
   "cell_type": "code",
   "execution_count": 4,
   "id": "0d2be2a0",
   "metadata": {},
   "outputs": [
    {
     "data": {
      "text/plain": [
       "237-element Vector{Int64}:\n",
       " 4512\n",
       " 3738\n",
       " 4261\n",
       " 3777\n",
       " 4177\n",
       " 3585\n",
       " 3785\n",
       " 3559\n",
       " 3613\n",
       " 3982\n",
       " 3443\n",
       " 3993\n",
       " 3640\n",
       "    ⋮\n",
       " 3716\n",
       " 3284\n",
       " 4204\n",
       " 3735\n",
       " 3218\n",
       " 3685\n",
       " 3704\n",
       " 3214\n",
       " 3394\n",
       " 3233\n",
       " 3352\n",
       " 3391"
      ]
     },
     "execution_count": 4,
     "metadata": {},
     "output_type": "execute_result"
    }
   ],
   "source": [
    "X = df[\"Head Size(cm^3)\"]"
   ]
  },
  {
   "cell_type": "code",
   "execution_count": 7,
   "id": "3201577d",
   "metadata": {},
   "outputs": [
    {
     "data": {
      "text/plain": [
       "3633.9915611814345"
      ]
     },
     "execution_count": 7,
     "metadata": {},
     "output_type": "execute_result"
    }
   ],
   "source": [
    "mean_x = mean(X)"
   ]
  },
  {
   "cell_type": "code",
   "execution_count": 8,
   "id": "f67b1f58",
   "metadata": {},
   "outputs": [
    {
     "data": {
      "text/plain": [
       "237-element Vector{Int64}:\n",
       " 1530\n",
       " 1297\n",
       " 1335\n",
       " 1282\n",
       " 1590\n",
       " 1300\n",
       " 1400\n",
       " 1255\n",
       " 1355\n",
       " 1375\n",
       " 1340\n",
       " 1380\n",
       " 1355\n",
       "    ⋮\n",
       " 1300\n",
       " 1246\n",
       " 1380\n",
       " 1350\n",
       " 1060\n",
       " 1350\n",
       " 1220\n",
       " 1110\n",
       " 1215\n",
       " 1104\n",
       " 1170\n",
       " 1120"
      ]
     },
     "execution_count": 8,
     "metadata": {},
     "output_type": "execute_result"
    }
   ],
   "source": [
    "Y = df[\"Brain Weight(grams)\"]"
   ]
  },
  {
   "cell_type": "code",
   "execution_count": 9,
   "id": "ce7bd1ac",
   "metadata": {},
   "outputs": [
    {
     "data": {
      "text/plain": [
       "1282.873417721519"
      ]
     },
     "execution_count": 9,
     "metadata": {},
     "output_type": "execute_result"
    }
   ],
   "source": [
    "mean_y = mean(Y)"
   ]
  },
  {
   "cell_type": "code",
   "execution_count": 15,
   "id": "f611fde9",
   "metadata": {},
   "outputs": [],
   "source": [
    "n = length(X)\n",
    "\n",
    "num = 0\n",
    "den = 0\n",
    "\n",
    "for i in 1:n\n",
    "    num += (X[i] - mean_x) * (Y[i] - mean_y)\n",
    "    den += (X[i] - mean_x) ^ 2\n",
    "end"
   ]
  },
  {
   "cell_type": "code",
   "execution_count": 16,
   "id": "7e607dc2",
   "metadata": {},
   "outputs": [
    {
     "data": {
      "text/plain": [
       "325.57342104944223"
      ]
     },
     "execution_count": 16,
     "metadata": {},
     "output_type": "execute_result"
    }
   ],
   "source": [
    "m = num/den\n",
    "\n",
    "c = mean_y - (m * mean_x)"
   ]
  },
  {
   "cell_type": "code",
   "execution_count": 17,
   "id": "f57a56e5",
   "metadata": {},
   "outputs": [
    {
     "data": {
      "text/plain": [
       "0.26342933948939945"
      ]
     },
     "execution_count": 17,
     "metadata": {},
     "output_type": "execute_result"
    }
   ],
   "source": [
    "m\n"
   ]
  },
  {
   "cell_type": "code",
   "execution_count": 18,
   "id": "cbf4d31b",
   "metadata": {},
   "outputs": [
    {
     "data": {
      "text/plain": [
       "325.57342104944223"
      ]
     },
     "execution_count": 18,
     "metadata": {},
     "output_type": "execute_result"
    }
   ],
   "source": [
    "c"
   ]
  },
  {
   "cell_type": "code",
   "execution_count": 20,
   "id": "9808881d",
   "metadata": {},
   "outputs": [
    {
     "data": {
      "text/plain": [
       "0.6393117199570003"
      ]
     },
     "execution_count": 20,
     "metadata": {},
     "output_type": "execute_result"
    }
   ],
   "source": [
    "ss_t = 0\n",
    "ss_r = 0\n",
    "\n",
    "for i in 1:n\n",
    "    y_pred = c + m * X[i]\n",
    "    \n",
    "    ss_t += (Y[i] - mean_y) ^ 2\n",
    "    ss_r += (Y[i] - y_pred) ^ 2\n",
    "end\n",
    "    \n",
    "r2 = 1 - (ss_r/ss_t)"
   ]
  },
  {
   "cell_type": "code",
   "execution_count": 22,
   "id": "3621f6ee",
   "metadata": {},
   "outputs": [
    {
     "data": {
      "text/plain": [
       "linear_reg (generic function with 1 method)"
      ]
     },
     "execution_count": 22,
     "metadata": {},
     "output_type": "execute_result"
    }
   ],
   "source": [
    "function linear_reg()\n",
    "    df = CSV.read(\"headbrain.csv\",DataFrame)\n",
    "    \n",
    "    X = df[\"Head Size(cm^3)\"]\n",
    "    Y = df[\"Brain Weight(grams)\"]\n",
    "    \n",
    "    mean_x = mean(X)\n",
    "    mean_y = mean(Y)\n",
    "    \n",
    "    n = length(X)\n",
    "\n",
    "    num = 0\n",
    "    den = 0\n",
    "\n",
    "    for i in 1:n\n",
    "        num += (X[i] - mean_x) * (Y[i] - mean_y)\n",
    "        den += (X[i] - mean_x) ^ 2\n",
    "    end\n",
    "    \n",
    "    m = num/den\n",
    "\n",
    "    c = mean_y - (m * mean_x)\n",
    "    \n",
    "    ss_t = 0\n",
    "    ss_r = 0\n",
    "\n",
    "    for i in 1:n\n",
    "        y_pred = c + m * X[i]\n",
    "\n",
    "        ss_t += (Y[i] - mean_y) ^ 2\n",
    "        ss_r += (Y[i] - y_pred) ^ 2\n",
    "    end\n",
    "\n",
    "    r2 = 1 - (ss_r/ss_t)\n",
    "    \n",
    "    return r2\n",
    "end"
   ]
  },
  {
   "cell_type": "code",
   "execution_count": 23,
   "id": "89963f50",
   "metadata": {},
   "outputs": [
    {
     "data": {
      "text/plain": [
       "0.6393117199570003"
      ]
     },
     "execution_count": 23,
     "metadata": {},
     "output_type": "execute_result"
    }
   ],
   "source": [
    "linear_reg()"
   ]
  },
  {
   "cell_type": "code",
   "execution_count": 25,
   "id": "9f2bb512",
   "metadata": {},
   "outputs": [
    {
     "name": "stdout",
     "output_type": "stream",
     "text": [
      "elapsed CPU time: 0.000718 seconds\n"
     ]
    },
    {
     "data": {
      "text/plain": [
       "0.6393117199570003"
      ]
     },
     "execution_count": 25,
     "metadata": {},
     "output_type": "execute_result"
    }
   ],
   "source": [
    "GC.gc()\n",
    "@CPUtime begin\n",
    "   linear_reg()\n",
    "end"
   ]
  },
  {
   "cell_type": "code",
   "execution_count": 27,
   "id": "bb36f26d",
   "metadata": {},
   "outputs": [
    {
     "name": "stdout",
     "output_type": "stream",
     "text": [
      "  0.000766 seconds (5.98 k allocations: 126.094 KiB)\n"
     ]
    },
    {
     "data": {
      "text/plain": [
       "0.6393117199570003"
      ]
     },
     "execution_count": 27,
     "metadata": {},
     "output_type": "execute_result"
    }
   ],
   "source": [
    "@time linear_reg()"
   ]
  },
  {
   "cell_type": "code",
   "execution_count": 28,
   "id": "1be2128e",
   "metadata": {},
   "outputs": [
    {
     "data": {
      "text/plain": [
       "BenchmarkTools.Trial: 10000 samples with 1 evaluation.\n",
       " Range \u001b[90m(\u001b[39m\u001b[36m\u001b[1mmin\u001b[22m\u001b[39m … \u001b[35mmax\u001b[39m\u001b[90m):  \u001b[39m\u001b[36m\u001b[1m389.367 μs\u001b[22m\u001b[39m … \u001b[35m 10.525 ms\u001b[39m  \u001b[90m┊\u001b[39m GC \u001b[90m(\u001b[39mmin … max\u001b[90m): \u001b[39m0.00% … 87.95%\n",
       " Time  \u001b[90m(\u001b[39m\u001b[34m\u001b[1mmedian\u001b[22m\u001b[39m\u001b[90m):     \u001b[39m\u001b[34m\u001b[1m399.766 μs               \u001b[22m\u001b[39m\u001b[90m┊\u001b[39m GC \u001b[90m(\u001b[39mmedian\u001b[90m):    \u001b[39m0.00%\n",
       " Time  \u001b[90m(\u001b[39m\u001b[32m\u001b[1mmean\u001b[22m\u001b[39m ± \u001b[32mσ\u001b[39m\u001b[90m):   \u001b[39m\u001b[32m\u001b[1m443.662 μs\u001b[22m\u001b[39m ± \u001b[32m480.844 μs\u001b[39m  \u001b[90m┊\u001b[39m GC \u001b[90m(\u001b[39mmean ± σ\u001b[90m):  \u001b[39m5.00% ±  4.47%\n",
       "\n",
       "  \u001b[39m█\u001b[34m█\u001b[39m\u001b[39m▄\u001b[39m▄\u001b[39m▃\u001b[39m▂\u001b[32m▁\u001b[39m\u001b[39m▁\u001b[39m▁\u001b[39m \u001b[39m \u001b[39m \u001b[39m \u001b[39m \u001b[39m \u001b[39m \u001b[39m \u001b[39m \u001b[39m \u001b[39m \u001b[39m \u001b[39m \u001b[39m \u001b[39m \u001b[39m \u001b[39m \u001b[39m \u001b[39m \u001b[39m \u001b[39m \u001b[39m \u001b[39m \u001b[39m \u001b[39m \u001b[39m \u001b[39m \u001b[39m \u001b[39m \u001b[39m \u001b[39m \u001b[39m \u001b[39m \u001b[39m \u001b[39m \u001b[39m \u001b[39m \u001b[39m \u001b[39m \u001b[39m \u001b[39m \u001b[39m \u001b[39m \u001b[39m \u001b[39m \u001b[39m \u001b[39m \u001b[39m \u001b[39m \u001b[39m \u001b[39m \u001b[39m \u001b[39m \u001b[39m▁\n",
       "  \u001b[39m█\u001b[34m█\u001b[39m\u001b[39m█\u001b[39m█\u001b[39m█\u001b[39m█\u001b[32m█\u001b[39m\u001b[39m█\u001b[39m█\u001b[39m█\u001b[39m█\u001b[39m▇\u001b[39m▇\u001b[39m▇\u001b[39m█\u001b[39m▆\u001b[39m▆\u001b[39m▆\u001b[39m▆\u001b[39m▅\u001b[39m▆\u001b[39m▅\u001b[39m▄\u001b[39m▅\u001b[39m▅\u001b[39m▃\u001b[39m▅\u001b[39m▅\u001b[39m▅\u001b[39m▂\u001b[39m▄\u001b[39m▅\u001b[39m▄\u001b[39m▅\u001b[39m▅\u001b[39m▅\u001b[39m▄\u001b[39m▄\u001b[39m▅\u001b[39m▄\u001b[39m▄\u001b[39m▅\u001b[39m▃\u001b[39m▄\u001b[39m▃\u001b[39m▄\u001b[39m▄\u001b[39m▃\u001b[39m▄\u001b[39m▇\u001b[39m▅\u001b[39m▄\u001b[39m▅\u001b[39m▂\u001b[39m▅\u001b[39m▃\u001b[39m▃\u001b[39m▂\u001b[39m▂\u001b[39m▃\u001b[39m▃\u001b[39m \u001b[39m█\n",
       "  389 μs\u001b[90m        \u001b[39m\u001b[90mHistogram: \u001b[39m\u001b[90m\u001b[1mlog(\u001b[22m\u001b[39m\u001b[90mfrequency\u001b[39m\u001b[90m\u001b[1m)\u001b[22m\u001b[39m\u001b[90m by time\u001b[39m        912 μs \u001b[0m\u001b[1m<\u001b[22m\n",
       "\n",
       " Memory estimate\u001b[90m: \u001b[39m\u001b[33m126.09 KiB\u001b[39m, allocs estimate\u001b[90m: \u001b[39m\u001b[33m5982\u001b[39m."
      ]
     },
     "execution_count": 28,
     "metadata": {},
     "output_type": "execute_result"
    }
   ],
   "source": [
    "@benchmark linear_reg()"
   ]
  },
  {
   "cell_type": "code",
   "execution_count": null,
   "id": "d7cc8863",
   "metadata": {},
   "outputs": [],
   "source": []
  }
 ],
 "metadata": {
  "kernelspec": {
   "display_name": "Julia 1.6.5",
   "language": "julia",
   "name": "julia-1.6"
  },
  "language_info": {
   "file_extension": ".jl",
   "mimetype": "application/julia",
   "name": "julia",
   "version": "1.6.5"
  }
 },
 "nbformat": 4,
 "nbformat_minor": 5
}
