{
 "cells": [
  {
   "cell_type": "code",
   "execution_count": 20,
   "metadata": {},
   "outputs": [
    {
     "name": "stdout",
     "output_type": "stream",
     "text": [
      "  0.000001 seconds\n"
     ]
    },
    {
     "data": {
      "text/plain": [
       "MM (generic function with 1 method)"
      ]
     },
     "metadata": {},
     "output_type": "display_data"
    }
   ],
   "source": [
    "function MM()\n",
    "    x = rand(Float64,(10,10))\n",
    "    y = rand(Float64,(10,10))\n",
    "    c = zeros(10,10)\n",
    "\n",
    "    for i in range(1,10)\n",
    "        for j in range(1,10) \n",
    "            for k in range(1,10)\n",
    "                c[i,j] += x[i,k]*y[k,j]\n",
    "            end\n",
    "        end\n",
    "    end\n",
    "end\n",
    "@time MM"
   ]
  }
 ],
 "metadata": {
  "kernelspec": {
   "display_name": "Julia 1.7.2",
   "language": "julia",
   "name": "julia-1.7"
  },
  "language_info": {
   "file_extension": ".jl",
   "mimetype": "application/julia",
   "name": "julia",
   "version": "1.7.2"
  },
  "orig_nbformat": 4
 },
 "nbformat": 4,
 "nbformat_minor": 2
}
